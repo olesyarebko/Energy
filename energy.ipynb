{
 "cells": [
  {
   "cell_type": "code",
   "execution_count": 1,
   "metadata": {},
   "outputs": [],
   "source": [
    "import pandas as pd"
   ]
  },
  {
   "cell_type": "code",
   "execution_count": 3,
   "metadata": {},
   "outputs": [
    {
     "name": "stdout",
     "output_type": "stream",
     "text": [
      "   year resource        variable           units   magnitude  \\\n",
      "0  2007   Biogas   Closing stock         Dollars   Thousands   \n",
      "1  2007   Biogas      Generation  Gigawatt hours      Actual   \n",
      "2  2007   Biogas  Gigawatt hours          Number  Proportion   \n",
      "3  2007   Biogas   Opening stock         Dollars   Thousands   \n",
      "4  2007   Biogas   Other changes         Dollars   Thousands   \n",
      "\n",
      "                   source  data_value flag  \n",
      "0  Environmental Accounts    86690.00    R  \n",
      "1                    MBIE      224.00    F  \n",
      "2                    MBIE        0.01    F  \n",
      "3  Environmental Accounts         NaN    F  \n",
      "4  Environmental Accounts         NaN    F  \n"
     ]
    }
   ],
   "source": [
    "data = pd.read_csv('energy.csv')\n",
    "print(data.head())"
   ]
  },
  {
   "cell_type": "code",
   "execution_count": 4,
   "metadata": {},
   "outputs": [
    {
     "name": "stdout",
     "output_type": "stream",
     "text": [
      "<class 'pandas.core.frame.DataFrame'>\n",
      "RangeIndex: 600 entries, 0 to 599\n",
      "Data columns (total 8 columns):\n",
      " #   Column      Non-Null Count  Dtype  \n",
      "---  ------      --------------  -----  \n",
      " 0   year        600 non-null    int64  \n",
      " 1   resource    600 non-null    object \n",
      " 2   variable    600 non-null    object \n",
      " 3   units       600 non-null    object \n",
      " 4   magnitude   600 non-null    object \n",
      " 5   source      600 non-null    object \n",
      " 6   data_value  586 non-null    float64\n",
      " 7   flag        600 non-null    object \n",
      "dtypes: float64(1), int64(1), object(6)\n",
      "memory usage: 37.6+ KB\n"
     ]
    }
   ],
   "source": [
    "data.info()"
   ]
  }
 ],
 "metadata": {
  "kernelspec": {
   "display_name": "Python 3",
   "language": "python",
   "name": "python3"
  },
  "language_info": {
   "codemirror_mode": {
    "name": "ipython",
    "version": 3
   },
   "file_extension": ".py",
   "mimetype": "text/x-python",
   "name": "python",
   "nbconvert_exporter": "python",
   "pygments_lexer": "ipython3",
   "version": "3.8.5"
  }
 },
 "nbformat": 4,
 "nbformat_minor": 4
}
